{
 "cells": [
  {
   "cell_type": "code",
   "execution_count": 3,
   "id": "e7a9b080",
   "metadata": {},
   "outputs": [],
   "source": [
    "import numpy as np\n",
    "import pandas as pd\n",
    "from sklearn.model_selection import train_test_split\n",
    "from sklearn.ensemble import RandomForestClassifier\n",
    "from sklearn.metrics import classification_report\n",
    "from scipy.sparse import issparse"
   ]
  },
  {
   "cell_type": "code",
   "execution_count": 4,
   "id": "07bef9f4",
   "metadata": {},
   "outputs": [],
   "source": [
    "from anndata import read_h5ad\n",
    "\n",
    "adata = read_h5ad(\"mouse_diabetes.h5ad\", backed='r')"
   ]
  },
  {
   "cell_type": "code",
   "execution_count": 5,
   "id": "e42ad149",
   "metadata": {},
   "outputs": [
    {
     "name": "stdout",
     "output_type": "stream",
     "text": [
      "Found cell types: ['pancreatic ductal cell', 'pancreatic PP cell', 'endothelial cell', 'hematopoietic cell', 'pancreatic stellate cell', 'pancreatic D cell', 'pancreatic endocrine cell', 'type B pancreatic cell', 'unknown', 'pancreatic A cell', 'cell', 'pancreatic acinar cell', 'Schwann cell']\n"
     ]
    }
   ],
   "source": [
    "cell_types = adata.obs['cell_type'].unique().tolist()\n",
    "print(f\"Found cell types: {cell_types}\")"
   ]
  },
  {
   "cell_type": "code",
   "execution_count": null,
   "id": "7862080b",
   "metadata": {},
   "outputs": [
    {
     "name": "stdout",
     "output_type": "stream",
     "text": [
      "Processing cell type: pancreatic ductal cell\n",
      "Saved pancreatic ductal cell_subset.h5ad\n",
      "Processing cell type: pancreatic PP cell\n",
      "Saved pancreatic PP cell_subset.h5ad\n",
      "Processing cell type: endothelial cell\n",
      "Saved endothelial cell_subset.h5ad\n",
      "Processing cell type: hematopoietic cell\n",
      "Saved hematopoietic cell_subset.h5ad\n",
      "Processing cell type: pancreatic stellate cell\n",
      "Saved pancreatic stellate cell_subset.h5ad\n",
      "Processing cell type: pancreatic D cell\n",
      "Saved pancreatic D cell_subset.h5ad\n",
      "Processing cell type: pancreatic endocrine cell\n",
      "Saved pancreatic endocrine cell_subset.h5ad\n",
      "Processing cell type: type B pancreatic cell\n",
      "Saved type B pancreatic cell_subset.h5ad\n",
      "Processing cell type: unknown\n",
      "Saved unknown_subset.h5ad\n",
      "Processing cell type: pancreatic A cell\n",
      "Saved pancreatic A cell_subset.h5ad\n",
      "Processing cell type: cell\n",
      "Saved cell_subset.h5ad\n",
      "Processing cell type: pancreatic acinar cell\n",
      "Saved pancreatic acinar cell_subset.h5ad\n",
      "Processing cell type: Schwann cell\n",
      "Saved Schwann cell_subset.h5ad\n"
     ]
    }
   ],
   "source": [
    "#for cell_type in cell_types:\n",
    "#    print(f\"Processing cell type: {cell_type}\")\n",
    "#    \n",
    "#    # Get indices of cells with this cell type\n",
    "#    indices = adata.obs[adata.obs['cell_type'] == cell_type].index\n",
    "#    \n",
    "#    # Subset the data (load into memory)\n",
    "#    adata_subset = adata[indices, :].to_memory()\n",
    "#    \n",
    "#    # Save as separate .h5ad\n",
    "#    filename = f\"{cell_type}_subset.h5ad\"\n",
    "#    adata_subset.write(filename)\n",
    "#    print(f\"Saved {filename}\")"
   ]
  },
  {
   "cell_type": "code",
   "execution_count": 18,
   "id": "3da728fd",
   "metadata": {},
   "outputs": [
    {
     "name": "stdout",
     "output_type": "stream",
     "text": [
      "Diseases: ['type 1 diabetes mellitus', 'type 2 diabetes mellitus', 'normal', 'endocrine pancreas disorder']\n"
     ]
    }
   ],
   "source": [
    "diseases = adata.obs['disease'].unique().tolist()\n",
    "print(f\"Diseases: {diseases}\")\n",
    "\n"
   ]
  },
  {
   "cell_type": "code",
   "execution_count": null,
   "id": "9b80871f",
   "metadata": {},
   "outputs": [
    {
     "name": "stdout",
     "output_type": "stream",
     "text": [
      "Processing pancreatic ductal cell in type 1 diabetes mellitus\n",
      "✅ Saved pancreatic ductal cell_type 1 diabetes mellitus_subset.h5ad with 3599 cells\n",
      "Processing pancreatic ductal cell in type 2 diabetes mellitus\n",
      "✅ Saved pancreatic ductal cell_type 2 diabetes mellitus_subset.h5ad with 3103 cells\n",
      "Processing pancreatic ductal cell in normal\n",
      "✅ Saved pancreatic ductal cell_normal_subset.h5ad with 2011 cells\n",
      "Processing pancreatic ductal cell in endocrine pancreas disorder\n",
      "✅ Saved pancreatic ductal cell_endocrine pancreas disorder_subset.h5ad with 29 cells\n",
      "Processing pancreatic PP cell in type 1 diabetes mellitus\n",
      "✅ Saved pancreatic PP cell_type 1 diabetes mellitus_subset.h5ad with 826 cells\n",
      "Processing pancreatic PP cell in type 2 diabetes mellitus\n",
      "✅ Saved pancreatic PP cell_type 2 diabetes mellitus_subset.h5ad with 3300 cells\n",
      "Processing pancreatic PP cell in normal\n",
      "✅ Saved pancreatic PP cell_normal_subset.h5ad with 2271 cells\n",
      "Processing pancreatic PP cell in endocrine pancreas disorder\n",
      "✅ Saved pancreatic PP cell_endocrine pancreas disorder_subset.h5ad with 602 cells\n",
      "Processing endothelial cell in type 1 diabetes mellitus\n",
      "✅ Saved endothelial cell_type 1 diabetes mellitus_subset.h5ad with 4901 cells\n",
      "Processing endothelial cell in type 2 diabetes mellitus\n",
      "✅ Saved endothelial cell_type 2 diabetes mellitus_subset.h5ad with 3903 cells\n",
      "Processing endothelial cell in normal\n",
      "✅ Saved endothelial cell_normal_subset.h5ad with 4389 cells\n",
      "Processing endothelial cell in endocrine pancreas disorder\n",
      "✅ Saved endothelial cell_endocrine pancreas disorder_subset.h5ad with 276 cells\n",
      "Processing hematopoietic cell in type 1 diabetes mellitus\n",
      "✅ Saved hematopoietic cell_type 1 diabetes mellitus_subset.h5ad with 2492 cells\n",
      "Processing hematopoietic cell in type 2 diabetes mellitus\n",
      "✅ Saved hematopoietic cell_type 2 diabetes mellitus_subset.h5ad with 18785 cells\n",
      "Processing hematopoietic cell in normal\n",
      "✅ Saved hematopoietic cell_normal_subset.h5ad with 2031 cells\n",
      "Processing hematopoietic cell in endocrine pancreas disorder\n",
      "✅ Saved hematopoietic cell_endocrine pancreas disorder_subset.h5ad with 8395 cells\n",
      "Processing pancreatic stellate cell in type 1 diabetes mellitus\n",
      "✅ Saved pancreatic stellate cell_type 1 diabetes mellitus_subset.h5ad with 12597 cells\n",
      "Processing pancreatic stellate cell in type 2 diabetes mellitus\n",
      "✅ Saved pancreatic stellate cell_type 2 diabetes mellitus_subset.h5ad with 4819 cells\n",
      "Processing pancreatic stellate cell in normal\n",
      "✅ Saved pancreatic stellate cell_normal_subset.h5ad with 5311 cells\n",
      "Processing pancreatic stellate cell in endocrine pancreas disorder\n",
      "✅ Saved pancreatic stellate cell_endocrine pancreas disorder_subset.h5ad with 575 cells\n",
      "Processing pancreatic D cell in type 1 diabetes mellitus\n",
      "✅ Saved pancreatic D cell_type 1 diabetes mellitus_subset.h5ad with 5463 cells\n",
      "Processing pancreatic D cell in type 2 diabetes mellitus\n",
      "✅ Saved pancreatic D cell_type 2 diabetes mellitus_subset.h5ad with 10905 cells\n",
      "Processing pancreatic D cell in normal\n",
      "✅ Saved pancreatic D cell_normal_subset.h5ad with 7478 cells\n",
      "Processing pancreatic D cell in endocrine pancreas disorder\n",
      "✅ Saved pancreatic D cell_endocrine pancreas disorder_subset.h5ad with 929 cells\n",
      "Processing pancreatic endocrine cell in type 1 diabetes mellitus\n",
      "✅ Saved pancreatic endocrine cell_type 1 diabetes mellitus_subset.h5ad with 417 cells\n",
      "Processing pancreatic endocrine cell in type 2 diabetes mellitus\n",
      "✅ Saved pancreatic endocrine cell_type 2 diabetes mellitus_subset.h5ad with 5242 cells\n",
      "Processing pancreatic endocrine cell in normal\n",
      "✅ Saved pancreatic endocrine cell_normal_subset.h5ad with 3261 cells\n",
      "Processing pancreatic endocrine cell in endocrine pancreas disorder\n",
      "✅ Saved pancreatic endocrine cell_endocrine pancreas disorder_subset.h5ad with 1933 cells\n",
      "Processing type B pancreatic cell in type 1 diabetes mellitus\n",
      "✅ Saved type B pancreatic cell_type 1 diabetes mellitus_subset.h5ad with 3191 cells\n",
      "Processing type B pancreatic cell in type 2 diabetes mellitus\n",
      "✅ Saved type B pancreatic cell_type 2 diabetes mellitus_subset.h5ad with 32811 cells\n",
      "Processing type B pancreatic cell in normal\n",
      "✅ Saved type B pancreatic cell_normal_subset.h5ad with 54401 cells\n",
      "Processing type B pancreatic cell in endocrine pancreas disorder\n",
      "✅ Saved type B pancreatic cell_endocrine pancreas disorder_subset.h5ad with 11740 cells\n",
      "Processing unknown in type 1 diabetes mellitus\n",
      "✅ Saved unknown_type 1 diabetes mellitus_subset.h5ad with 62 cells\n",
      "Processing unknown in type 2 diabetes mellitus\n",
      "✅ Saved unknown_type 2 diabetes mellitus_subset.h5ad with 73 cells\n",
      "Processing unknown in normal\n",
      "✅ Saved unknown_normal_subset.h5ad with 36751 cells\n",
      "Processing unknown in endocrine pancreas disorder\n",
      "✅ Saved unknown_endocrine pancreas disorder_subset.h5ad with 39 cells\n",
      "Processing pancreatic A cell in type 1 diabetes mellitus\n",
      "✅ Saved pancreatic A cell_type 1 diabetes mellitus_subset.h5ad with 6198 cells\n",
      "Processing pancreatic A cell in type 2 diabetes mellitus\n",
      "✅ Saved pancreatic A cell_type 2 diabetes mellitus_subset.h5ad with 15727 cells\n",
      "Processing pancreatic A cell in normal\n",
      "✅ Saved pancreatic A cell_normal_subset.h5ad with 16269 cells\n",
      "Processing pancreatic A cell in endocrine pancreas disorder\n",
      "✅ Saved pancreatic A cell_endocrine pancreas disorder_subset.h5ad with 2741 cells\n",
      "Processing cell in type 1 diabetes mellitus\n",
      "✅ Saved cell_type 1 diabetes mellitus_subset.h5ad with 5 cells\n",
      "Processing cell in type 2 diabetes mellitus\n",
      "✅ Saved cell_type 2 diabetes mellitus_subset.h5ad with 524 cells\n",
      "Processing cell in normal\n",
      "✅ Saved cell_normal_subset.h5ad with 109 cells\n",
      "Processing cell in endocrine pancreas disorder\n",
      "✅ Saved cell_endocrine pancreas disorder_subset.h5ad with 215 cells\n",
      "Processing pancreatic acinar cell in type 1 diabetes mellitus\n",
      "✅ Saved pancreatic acinar cell_type 1 diabetes mellitus_subset.h5ad with 60 cells\n",
      "Processing pancreatic acinar cell in type 2 diabetes mellitus\n",
      "✅ Saved pancreatic acinar cell_type 2 diabetes mellitus_subset.h5ad with 346 cells\n",
      "Processing pancreatic acinar cell in normal\n",
      "✅ Saved pancreatic acinar cell_normal_subset.h5ad with 71 cells\n",
      "Processing pancreatic acinar cell in endocrine pancreas disorder\n",
      "✅ Saved pancreatic acinar cell_endocrine pancreas disorder_subset.h5ad with 3 cells\n",
      "Processing Schwann cell in type 1 diabetes mellitus\n",
      "✅ Saved Schwann cell_type 1 diabetes mellitus_subset.h5ad with 121 cells\n",
      "Processing Schwann cell in type 2 diabetes mellitus\n",
      "✅ Saved Schwann cell_type 2 diabetes mellitus_subset.h5ad with 209 cells\n",
      "Processing Schwann cell in normal\n",
      "✅ Saved Schwann cell_normal_subset.h5ad with 237 cells\n",
      "Processing Schwann cell in endocrine pancreas disorder\n",
      "✅ Saved Schwann cell_endocrine pancreas disorder_subset.h5ad with 50 cells\n"
     ]
    }
   ],
   "source": [
    "#for cell_type in cell_types:\n",
    "#    for disease in diseases:\n",
    "#        print(f\"Processing {cell_type} in {disease}\")\n",
    "#        \n",
    "#        # Get indices for this combination\n",
    "#        mask = (adata.obs['cell_type'] == cell_type) & (adata.obs['disease'] == disease)\n",
    "#        indices = adata.obs[mask].index\n",
    "#        \n",
    "#        if len(indices) == 0:\n",
    "#            print(f\"⚠️ No cells found for {cell_type} in {disease}\")\n",
    "#            continue\n",
    "#        \n",
    "#        # Subset data and load into memory\n",
    "#        adata_subset = adata[indices, :].to_memory()\n",
    "#        \n",
    "#        # Save to a file\n",
    "#        filename = f\"{cell_type}_{disease}_subset.h5ad\"\n",
    "#        adata_subset.write(filename)\n",
    "#        print(f\"✅ Saved {filename} with {adata_subset.n_obs} cells\")"
   ]
  },
  {
   "cell_type": "code",
   "execution_count": 7,
   "id": "5f348151",
   "metadata": {},
   "outputs": [
    {
     "name": "stdout",
     "output_type": "stream",
     "text": [
      "AnnData object with n_obs × n_vars = 16269 × 31202\n",
      "    obs: 'batch_integration', 'dataset', 'design', 'cell_cycle_phase', 'ins_high', 'gcg_high', 'sst_high', 'ppy_high', 'cell_filtering', 'strain', 'age', 'cell_type_originalDataset_unified', 'cell_type_originalDataset', 'cell_type_reannotatedIntegrated', 'n_genes', 'mt_frac', 'doublet_score', 'log10_n_counts', 'age_approxDays', 'dataset__design__sample', 'cell_subtype_immune_reannotatedIntegrated', 'cell_subtype_endothelial_reannotatedIntegrated', 'emptyDrops_LogProb_scaled', 'cell_subtype_beta_coarse_reannotatedIntegrated', 'cell_subtype_beta_fine_reannotatedIntegrated', 'GP_1', 'GP_2', 'GP_3', 'GP_4', 'GP_5', 'GP_6', 'GP_7', 'GP_8', 'GP_9', 'GP_10', 'GP_11', 'GP_12', 'GP_13', 'GP_14', 'GP_15', 'GP_16', 'GP_17', 'GP_18', 'GP_19', 'GP_20', 'GP_21', 'GP_22', 'GP_23', 'GP_24', 'GP_25', 'GP_26', 'GP_27', 'assay_ontology_term_id', 'cell_type_ontology_term_id', 'development_stage_ontology_term_id', 'diabetes_model', 'chemical_stress', 'GEO_accession', 'disease_ontology_term_id', 'self_reported_ethnicity_ontology_term_id', 'is_primary_data', 'organism_ontology_term_id', 'sex_ontology_term_id', 'sex_annotation', 'tissue_ontology_term_id', 'low_q', 'donor_id', 'suspension_type', 'tissue_type', 'cell_type', 'assay', 'disease', 'organism', 'sex', 'tissue', 'self_reported_ethnicity', 'development_stage', 'observation_joinid'\n",
      "    var: 'present_Fltp_2y', 'present_Fltp_adult', 'present_Fltp_P16', 'present_NOD', 'present_NOD_elimination', 'present_spikein_drug', 'present_embryo', 'present_VSG', 'present_STZ', 'feature_is_filtered', 'feature_name', 'feature_reference', 'feature_biotype', 'feature_length', 'feature_type'\n",
      "    uns: 'batch_condition', 'cell_type_reannotatedIntegrated_colors', 'citation', 'dataset_colors', 'default_embedding', 'field_descriptions', 'schema_reference', 'schema_version', 'title'\n",
      "    obsm: 'X_integrated_umap', 'X_integrated_umap_beta'\n"
     ]
    }
   ],
   "source": [
    "import scanpy as sc\n",
    "\n",
    "# Path to the subfolder and file\n",
    "file_path = 'Data_set/pancreatic A cell_normal_subset.h5ad'\n",
    "\n",
    "# Load the AnnData object\n",
    "data_A_cell_normal = sc.read_h5ad(file_path)\n",
    "\n",
    "print(data_A_cell_normal)"
   ]
  },
  {
   "cell_type": "code",
   "execution_count": 10,
   "id": "49ea1e83",
   "metadata": {},
   "outputs": [
    {
     "name": "stdout",
     "output_type": "stream",
     "text": [
      "<Compressed Sparse Row sparse matrix of dtype 'float32'\n",
      "\twith 26716 stored elements and shape (10, 31202)>\n",
      "  Coords\tValues\n",
      "  (0, 10)\t1.5430577993392944\n",
      "  (0, 21)\t1.0436060428619385\n",
      "  (0, 28)\t1.5430577993392944\n",
      "  (0, 31)\t1.0436060428619385\n",
      "  (0, 37)\t4.851414680480957\n",
      "  (0, 60)\t1.5430577993392944\n",
      "  (0, 64)\t1.5430577993392944\n",
      "  (0, 74)\t7.917696952819824\n",
      "  (0, 75)\t1.0436060428619385\n",
      "  (0, 80)\t1.0436060428619385\n",
      "  (0, 97)\t1.0436060428619385\n",
      "  (0, 102)\t1.5430577993392944\n",
      "  (0, 124)\t1.0436060428619385\n",
      "  (0, 126)\t4.745324611663818\n",
      "  (0, 130)\t1.0436060428619385\n",
      "  (0, 134)\t1.5430577993392944\n",
      "  (0, 143)\t1.5430577993392944\n",
      "  (0, 144)\t1.0436060428619385\n",
      "  (0, 155)\t1.0436060428619385\n",
      "  (0, 163)\t1.0436060428619385\n",
      "  (0, 177)\t1.0436060428619385\n",
      "  (0, 193)\t1.5430577993392944\n",
      "  (0, 208)\t1.0436060428619385\n",
      "  (0, 212)\t2.1231894493103027\n",
      "  (0, 213)\t1.0436060428619385\n",
      "  :\t:\n",
      "  (9, 24664)\t0.7113644480705261\n",
      "  (9, 24702)\t0.7113644480705261\n",
      "  (9, 24713)\t0.7113644480705261\n",
      "  (9, 24724)\t3.125537633895874\n",
      "  (9, 24776)\t0.7113644480705261\n",
      "  (9, 25378)\t0.7113644480705261\n",
      "  (9, 25662)\t0.7113644480705261\n",
      "  (9, 25757)\t0.7113644480705261\n",
      "  (9, 25834)\t0.7113644480705261\n",
      "  (9, 25951)\t0.7113644480705261\n",
      "  (9, 26040)\t0.7113644480705261\n",
      "  (9, 26237)\t0.7113644480705261\n",
      "  (9, 26246)\t1.1228289604187012\n",
      "  (9, 26446)\t0.7113644480705261\n",
      "  (9, 27189)\t1.1228289604187012\n",
      "  (9, 27815)\t1.1228289604187012\n",
      "  (9, 27820)\t0.7113644480705261\n",
      "  (9, 28436)\t0.7113644480705261\n",
      "  (9, 28655)\t0.7113644480705261\n",
      "  (9, 29207)\t1.4134973287582397\n",
      "  (9, 29852)\t0.7113644480705261\n",
      "  (9, 30271)\t0.7113644480705261\n",
      "  (9, 30451)\t0.7113644480705261\n",
      "  (9, 30601)\t0.7113644480705261\n",
      "  (9, 30625)\t1.1228289604187012\n"
     ]
    }
   ],
   "source": [
    "print(data_A_cell_normal.X[:10])"
   ]
  },
  {
   "cell_type": "code",
   "execution_count": 11,
   "id": "349a05c1",
   "metadata": {},
   "outputs": [],
   "source": [
    "import tensorflow as tf\n",
    "from tensorflow.keras import layers, models\n",
    "\n",
    "# Number of genes (features)\n",
    "n_genes = data_A_cell_normal.shape[1]\n",
    "# Desired latent dimension\n",
    "latent_dim = 500\n",
    "\n",
    "# Encoder\n",
    "input_layer = layers.Input(shape=(n_genes,))\n",
    "encoded = layers.Dense(1024, activation='relu')(input_layer)\n",
    "encoded = layers.Dense(256, activation='relu')(encoded)\n",
    "encoded = layers.Dense(latent_dim, activation='relu')(encoded)\n",
    "\n",
    "# Decoder\n",
    "decoded = layers.Dense(256, activation='relu')(encoded)\n",
    "decoded = layers.Dense(1024, activation='relu')(decoded)\n",
    "decoded = layers.Dense(n_genes, activation='linear')(decoded)\n",
    "\n",
    "# Autoencoder Model\n",
    "autoencoder = models.Model(input_layer, decoded)\n",
    "autoencoder.compile(optimizer='adam', loss='mse')\n",
    "\n",
    "# Encoder Model (for extracting latent features)\n",
    "encoder = models.Model(input_layer, encoded)"
   ]
  },
  {
   "cell_type": "code",
   "execution_count": 12,
   "id": "e6a01c7d",
   "metadata": {},
   "outputs": [
    {
     "name": "stdout",
     "output_type": "stream",
     "text": [
      "Epoch 1/50\n",
      "\u001b[1m58/58\u001b[0m \u001b[32m━━━━━━━━━━━━━━━━━━━━\u001b[0m\u001b[37m\u001b[0m \u001b[1m60s\u001b[0m 927ms/step - loss: 0.6846 - val_loss: 0.6806\n",
      "Epoch 2/50\n",
      "\u001b[1m58/58\u001b[0m \u001b[32m━━━━━━━━━━━━━━━━━━━━\u001b[0m\u001b[37m\u001b[0m \u001b[1m49s\u001b[0m 850ms/step - loss: 0.6784 - val_loss: 0.6768\n",
      "Epoch 3/50\n",
      "\u001b[1m58/58\u001b[0m \u001b[32m━━━━━━━━━━━━━━━━━━━━\u001b[0m\u001b[37m\u001b[0m \u001b[1m47s\u001b[0m 810ms/step - loss: 0.6703 - val_loss: 0.6751\n",
      "Epoch 4/50\n",
      "\u001b[1m58/58\u001b[0m \u001b[32m━━━━━━━━━━━━━━━━━━━━\u001b[0m\u001b[37m\u001b[0m \u001b[1m47s\u001b[0m 814ms/step - loss: 0.6695 - val_loss: 0.6747\n",
      "Epoch 5/50\n",
      "\u001b[1m58/58\u001b[0m \u001b[32m━━━━━━━━━━━━━━━━━━━━\u001b[0m\u001b[37m\u001b[0m \u001b[1m45s\u001b[0m 775ms/step - loss: 0.6675 - val_loss: 0.6744\n",
      "Epoch 6/50\n",
      "\u001b[1m58/58\u001b[0m \u001b[32m━━━━━━━━━━━━━━━━━━━━\u001b[0m\u001b[37m\u001b[0m \u001b[1m47s\u001b[0m 801ms/step - loss: 0.6649 - val_loss: 0.6746\n",
      "Epoch 7/50\n",
      "\u001b[1m58/58\u001b[0m \u001b[32m━━━━━━━━━━━━━━━━━━━━\u001b[0m\u001b[37m\u001b[0m \u001b[1m45s\u001b[0m 772ms/step - loss: 0.6655 - val_loss: 0.6749\n",
      "Epoch 8/50\n",
      "\u001b[1m58/58\u001b[0m \u001b[32m━━━━━━━━━━━━━━━━━━━━\u001b[0m\u001b[37m\u001b[0m \u001b[1m44s\u001b[0m 762ms/step - loss: 0.6621 - val_loss: 0.6754\n",
      "Epoch 9/50\n",
      "\u001b[1m58/58\u001b[0m \u001b[32m━━━━━━━━━━━━━━━━━━━━\u001b[0m\u001b[37m\u001b[0m \u001b[1m44s\u001b[0m 754ms/step - loss: 0.6600 - val_loss: 0.6762\n",
      "Epoch 10/50\n",
      "\u001b[1m58/58\u001b[0m \u001b[32m━━━━━━━━━━━━━━━━━━━━\u001b[0m\u001b[37m\u001b[0m \u001b[1m43s\u001b[0m 744ms/step - loss: 0.6500 - val_loss: 0.6768\n",
      "Epoch 11/50\n",
      "\u001b[1m58/58\u001b[0m \u001b[32m━━━━━━━━━━━━━━━━━━━━\u001b[0m\u001b[37m\u001b[0m \u001b[1m43s\u001b[0m 740ms/step - loss: 0.6560 - val_loss: 0.6774\n",
      "Epoch 12/50\n",
      "\u001b[1m58/58\u001b[0m \u001b[32m━━━━━━━━━━━━━━━━━━━━\u001b[0m\u001b[37m\u001b[0m \u001b[1m33s\u001b[0m 557ms/step - loss: 0.6528 - val_loss: 0.6778\n",
      "Epoch 13/50\n",
      "\u001b[1m58/58\u001b[0m \u001b[32m━━━━━━━━━━━━━━━━━━━━\u001b[0m\u001b[37m\u001b[0m \u001b[1m33s\u001b[0m 570ms/step - loss: 0.6484 - val_loss: 0.6788\n",
      "Epoch 14/50\n",
      "\u001b[1m58/58\u001b[0m \u001b[32m━━━━━━━━━━━━━━━━━━━━\u001b[0m\u001b[37m\u001b[0m \u001b[1m34s\u001b[0m 590ms/step - loss: 0.6457 - val_loss: 0.6791\n",
      "Epoch 15/50\n",
      "\u001b[1m58/58\u001b[0m \u001b[32m━━━━━━━━━━━━━━━━━━━━\u001b[0m\u001b[37m\u001b[0m \u001b[1m37s\u001b[0m 628ms/step - loss: 0.6432 - val_loss: 0.6794\n",
      "Epoch 16/50\n",
      "\u001b[1m58/58\u001b[0m \u001b[32m━━━━━━━━━━━━━━━━━━━━\u001b[0m\u001b[37m\u001b[0m \u001b[1m42s\u001b[0m 713ms/step - loss: 0.6372 - val_loss: 0.6799\n",
      "Epoch 17/50\n",
      "\u001b[1m58/58\u001b[0m \u001b[32m━━━━━━━━━━━━━━━━━━━━\u001b[0m\u001b[37m\u001b[0m \u001b[1m37s\u001b[0m 636ms/step - loss: 0.6383 - val_loss: 0.6806\n",
      "Epoch 18/50\n",
      "\u001b[1m58/58\u001b[0m \u001b[32m━━━━━━━━━━━━━━━━━━━━\u001b[0m\u001b[37m\u001b[0m \u001b[1m34s\u001b[0m 575ms/step - loss: 0.6411 - val_loss: 0.6808\n",
      "Epoch 19/50\n",
      "\u001b[1m58/58\u001b[0m \u001b[32m━━━━━━━━━━━━━━━━━━━━\u001b[0m\u001b[37m\u001b[0m \u001b[1m36s\u001b[0m 620ms/step - loss: 0.6296 - val_loss: 0.6811\n",
      "Epoch 20/50\n",
      "\u001b[1m58/58\u001b[0m \u001b[32m━━━━━━━━━━━━━━━━━━━━\u001b[0m\u001b[37m\u001b[0m \u001b[1m44s\u001b[0m 755ms/step - loss: 0.6306 - val_loss: 0.6814\n",
      "Epoch 21/50\n",
      "\u001b[1m58/58\u001b[0m \u001b[32m━━━━━━━━━━━━━━━━━━━━\u001b[0m\u001b[37m\u001b[0m \u001b[1m48s\u001b[0m 819ms/step - loss: 0.6278 - val_loss: 0.6814\n",
      "Epoch 22/50\n",
      "\u001b[1m58/58\u001b[0m \u001b[32m━━━━━━━━━━━━━━━━━━━━\u001b[0m\u001b[37m\u001b[0m \u001b[1m46s\u001b[0m 797ms/step - loss: 0.6283 - val_loss: 0.6817\n",
      "Epoch 23/50\n",
      "\u001b[1m58/58\u001b[0m \u001b[32m━━━━━━━━━━━━━━━━━━━━\u001b[0m\u001b[37m\u001b[0m \u001b[1m46s\u001b[0m 792ms/step - loss: 0.6284 - val_loss: 0.6823\n",
      "Epoch 24/50\n",
      "\u001b[1m58/58\u001b[0m \u001b[32m━━━━━━━━━━━━━━━━━━━━\u001b[0m\u001b[37m\u001b[0m \u001b[1m49s\u001b[0m 837ms/step - loss: 0.6231 - val_loss: 0.6818\n",
      "Epoch 25/50\n",
      "\u001b[1m58/58\u001b[0m \u001b[32m━━━━━━━━━━━━━━━━━━━━\u001b[0m\u001b[37m\u001b[0m \u001b[1m46s\u001b[0m 786ms/step - loss: 0.6214 - val_loss: 0.6822\n",
      "Epoch 26/50\n",
      "\u001b[1m58/58\u001b[0m \u001b[32m━━━━━━━━━━━━━━━━━━━━\u001b[0m\u001b[37m\u001b[0m \u001b[1m44s\u001b[0m 754ms/step - loss: 0.6218 - val_loss: 0.6823\n",
      "Epoch 27/50\n",
      "\u001b[1m58/58\u001b[0m \u001b[32m━━━━━━━━━━━━━━━━━━━━\u001b[0m\u001b[37m\u001b[0m \u001b[1m46s\u001b[0m 784ms/step - loss: 0.6205 - val_loss: 0.6823\n",
      "Epoch 28/50\n",
      "\u001b[1m58/58\u001b[0m \u001b[32m━━━━━━━━━━━━━━━━━━━━\u001b[0m\u001b[37m\u001b[0m \u001b[1m46s\u001b[0m 791ms/step - loss: 0.6168 - val_loss: 0.6823\n",
      "Epoch 29/50\n",
      "\u001b[1m58/58\u001b[0m \u001b[32m━━━━━━━━━━━━━━━━━━━━\u001b[0m\u001b[37m\u001b[0m \u001b[1m46s\u001b[0m 798ms/step - loss: 0.6183 - val_loss: 0.6826\n",
      "Epoch 30/50\n",
      "\u001b[1m58/58\u001b[0m \u001b[32m━━━━━━━━━━━━━━━━━━━━\u001b[0m\u001b[37m\u001b[0m \u001b[1m48s\u001b[0m 826ms/step - loss: 0.6149 - val_loss: 0.6828\n",
      "Epoch 31/50\n",
      "\u001b[1m58/58\u001b[0m \u001b[32m━━━━━━━━━━━━━━━━━━━━\u001b[0m\u001b[37m\u001b[0m \u001b[1m45s\u001b[0m 783ms/step - loss: 0.6150 - val_loss: 0.6826\n",
      "Epoch 32/50\n",
      "\u001b[1m58/58\u001b[0m \u001b[32m━━━━━━━━━━━━━━━━━━━━\u001b[0m\u001b[37m\u001b[0m \u001b[1m46s\u001b[0m 799ms/step - loss: 0.6141 - val_loss: 0.6828\n",
      "Epoch 33/50\n",
      "\u001b[1m58/58\u001b[0m \u001b[32m━━━━━━━━━━━━━━━━━━━━\u001b[0m\u001b[37m\u001b[0m \u001b[1m47s\u001b[0m 813ms/step - loss: 0.6132 - val_loss: 0.6827\n",
      "Epoch 34/50\n",
      "\u001b[1m58/58\u001b[0m \u001b[32m━━━━━━━━━━━━━━━━━━━━\u001b[0m\u001b[37m\u001b[0m \u001b[1m49s\u001b[0m 840ms/step - loss: 0.6113 - val_loss: 0.6827\n",
      "Epoch 35/50\n",
      "\u001b[1m58/58\u001b[0m \u001b[32m━━━━━━━━━━━━━━━━━━━━\u001b[0m\u001b[37m\u001b[0m \u001b[1m50s\u001b[0m 852ms/step - loss: 0.6091 - val_loss: 0.6825\n",
      "Epoch 36/50\n",
      "\u001b[1m58/58\u001b[0m \u001b[32m━━━━━━━━━━━━━━━━━━━━\u001b[0m\u001b[37m\u001b[0m \u001b[1m45s\u001b[0m 777ms/step - loss: 0.6105 - val_loss: 0.6827\n",
      "Epoch 37/50\n",
      "\u001b[1m58/58\u001b[0m \u001b[32m━━━━━━━━━━━━━━━━━━━━\u001b[0m\u001b[37m\u001b[0m \u001b[1m45s\u001b[0m 772ms/step - loss: 0.6131 - val_loss: 0.6818\n",
      "Epoch 38/50\n",
      "\u001b[1m58/58\u001b[0m \u001b[32m━━━━━━━━━━━━━━━━━━━━\u001b[0m\u001b[37m\u001b[0m \u001b[1m44s\u001b[0m 765ms/step - loss: 0.6134 - val_loss: 0.6825\n",
      "Epoch 39/50\n",
      "\u001b[1m58/58\u001b[0m \u001b[32m━━━━━━━━━━━━━━━━━━━━\u001b[0m\u001b[37m\u001b[0m \u001b[1m44s\u001b[0m 762ms/step - loss: 0.6087 - val_loss: 0.6827\n",
      "Epoch 40/50\n",
      "\u001b[1m58/58\u001b[0m \u001b[32m━━━━━━━━━━━━━━━━━━━━\u001b[0m\u001b[37m\u001b[0m \u001b[1m44s\u001b[0m 749ms/step - loss: 0.6097 - val_loss: 0.6825\n",
      "Epoch 41/50\n",
      "\u001b[1m58/58\u001b[0m \u001b[32m━━━━━━━━━━━━━━━━━━━━\u001b[0m\u001b[37m\u001b[0m \u001b[1m43s\u001b[0m 746ms/step - loss: 0.6044 - val_loss: 0.6824\n",
      "Epoch 42/50\n",
      "\u001b[1m58/58\u001b[0m \u001b[32m━━━━━━━━━━━━━━━━━━━━\u001b[0m\u001b[37m\u001b[0m \u001b[1m44s\u001b[0m 754ms/step - loss: 0.6057 - val_loss: 0.6824\n",
      "Epoch 43/50\n",
      "\u001b[1m58/58\u001b[0m \u001b[32m━━━━━━━━━━━━━━━━━━━━\u001b[0m\u001b[37m\u001b[0m \u001b[1m45s\u001b[0m 782ms/step - loss: 0.6048 - val_loss: 0.6824\n",
      "Epoch 44/50\n",
      "\u001b[1m58/58\u001b[0m \u001b[32m━━━━━━━━━━━━━━━━━━━━\u001b[0m\u001b[37m\u001b[0m \u001b[1m47s\u001b[0m 804ms/step - loss: 0.6044 - val_loss: 0.6823\n",
      "Epoch 45/50\n",
      "\u001b[1m58/58\u001b[0m \u001b[32m━━━━━━━━━━━━━━━━━━━━\u001b[0m\u001b[37m\u001b[0m \u001b[1m43s\u001b[0m 740ms/step - loss: 0.6040 - val_loss: 0.6823\n",
      "Epoch 46/50\n",
      "\u001b[1m58/58\u001b[0m \u001b[32m━━━━━━━━━━━━━━━━━━━━\u001b[0m\u001b[37m\u001b[0m \u001b[1m44s\u001b[0m 752ms/step - loss: 0.6040 - val_loss: 0.6821\n",
      "Epoch 47/50\n",
      "\u001b[1m58/58\u001b[0m \u001b[32m━━━━━━━━━━━━━━━━━━━━\u001b[0m\u001b[37m\u001b[0m \u001b[1m43s\u001b[0m 747ms/step - loss: 0.6028 - val_loss: 0.6824\n",
      "Epoch 48/50\n",
      "\u001b[1m58/58\u001b[0m \u001b[32m━━━━━━━━━━━━━━━━━━━━\u001b[0m\u001b[37m\u001b[0m \u001b[1m47s\u001b[0m 817ms/step - loss: 0.6013 - val_loss: 0.6825\n",
      "Epoch 49/50\n",
      "\u001b[1m58/58\u001b[0m \u001b[32m━━━━━━━━━━━━━━━━━━━━\u001b[0m\u001b[37m\u001b[0m \u001b[1m47s\u001b[0m 814ms/step - loss: 0.6000 - val_loss: 0.6821\n",
      "Epoch 50/50\n",
      "\u001b[1m58/58\u001b[0m \u001b[32m━━━━━━━━━━━━━━━━━━━━\u001b[0m\u001b[37m\u001b[0m \u001b[1m45s\u001b[0m 770ms/step - loss: 0.5993 - val_loss: 0.6821\n"
     ]
    },
    {
     "data": {
      "text/plain": [
       "<keras.src.callbacks.history.History at 0x21db8e70890>"
      ]
     },
     "execution_count": 12,
     "metadata": {},
     "output_type": "execute_result"
    }
   ],
   "source": [
    "X =  data_A_cell_normal.X.toarray() if not isinstance(data_A_cell_normal.X, np.ndarray) else data_A_cell_normal.X\n",
    "\n",
    "# Optional: scale the data (e.g., MinMaxScaler or StandardScaler)\n",
    "from sklearn.preprocessing import StandardScaler\n",
    "scaler = StandardScaler()\n",
    "X_scaled = scaler.fit_transform(X)\n",
    "\n",
    "# Train the autoencoder\n",
    "autoencoder.fit(\n",
    "    X_scaled, X_scaled,\n",
    "    epochs=50,\n",
    "    batch_size=256,\n",
    "    shuffle=True,\n",
    "    validation_split=0.1\n",
    ")"
   ]
  },
  {
   "cell_type": "code",
   "execution_count": 13,
   "id": "7695b172",
   "metadata": {},
   "outputs": [
    {
     "name": "stdout",
     "output_type": "stream",
     "text": [
      "\u001b[1m509/509\u001b[0m \u001b[32m━━━━━━━━━━━━━━━━━━━━\u001b[0m\u001b[37m\u001b[0m \u001b[1m7s\u001b[0m 14ms/step\n",
      "Latent representation shape: (16269, 500)\n"
     ]
    }
   ],
   "source": [
    "X_latent = encoder.predict(X_scaled)\n",
    "print(f\"Latent representation shape: {X_latent.shape}\")"
   ]
  },
  {
   "cell_type": "code",
   "execution_count": 26,
   "id": "a2ccf984",
   "metadata": {},
   "outputs": [],
   "source": [
    "data_A_cell_type1 = sc.read_h5ad('Data_set/pancreatic A cell_type 1 diabetes mellitus_subset.h5ad')\n",
    "\n",
    "# Get the expression matrix (cells × genes)\n",
    "A_cell_type1 = data_A_cell_type1.X.toarray() if not isinstance(data_A_cell_type1.X, np.ndarray) else data_A_cell_type1.X\n",
    "\n",
    "data_A_cell_type2 = sc.read_h5ad('Data_set/pancreatic A cell_type 2 diabetes mellitus_subset.h5ad')\n",
    "\n",
    "# Get the expression matrix (cells × genes)\n",
    "A_cell_type2 = data_A_cell_type2.X.toarray() if not isinstance(data_A_cell_type2.X, np.ndarray) else data_A_cell_type2.X\n",
    "\n",
    "data_A_cell_endocrine = sc.read_h5ad('Data_set/pancreatic A cell_endocrine pancreas disorder_subset.h5ad')\n",
    "\n",
    "A_cell_endocrine = data_A_cell_endocrine.X.toarray() if not isinstance(data_A_cell_endocrine.X, np.ndarray) else data_A_cell_endocrine.X    \n",
    "\n"
   ]
  },
  {
   "cell_type": "code",
   "execution_count": 27,
   "id": "5ea26b2b",
   "metadata": {},
   "outputs": [],
   "source": [
    "scaler = StandardScaler()\n",
    "X_control_scaled = scaler.fit_transform(X)\n",
    "X_type1_scaled = scaler.transform(A_cell_type1)\n",
    "X_type2_scaled = scaler.transform(A_cell_type2)\n",
    "X_endocrine_scaled = scaler.transform(A_cell_endocrine)\n"
   ]
  },
  {
   "cell_type": "code",
   "execution_count": 28,
   "id": "10c8ffd3",
   "metadata": {},
   "outputs": [
    {
     "name": "stdout",
     "output_type": "stream",
     "text": [
      "\u001b[1m194/194\u001b[0m \u001b[32m━━━━━━━━━━━━━━━━━━━━\u001b[0m\u001b[37m\u001b[0m \u001b[1m6s\u001b[0m 24ms/step\n",
      "Latent representation shape: (6198, 500)\n",
      "\u001b[1m492/492\u001b[0m \u001b[32m━━━━━━━━━━━━━━━━━━━━\u001b[0m\u001b[37m\u001b[0m \u001b[1m11s\u001b[0m 22ms/step\n",
      "Latent representation shape: (15727, 500)\n",
      "\u001b[1m86/86\u001b[0m \u001b[32m━━━━━━━━━━━━━━━━━━━━\u001b[0m\u001b[37m\u001b[0m \u001b[1m2s\u001b[0m 23ms/step\n",
      "Latent representation shape: (2741, 500)\n"
     ]
    }
   ],
   "source": [
    "X_type1_latent = encoder.predict(X_type1_scaled)\n",
    "print(f\"Latent representation shape: {X_type1_latent.shape}\")\n",
    "\n",
    "X_type2_latent = encoder.predict(X_type2_scaled)\n",
    "print(f\"Latent representation shape: {X_type2_latent.shape}\")\n",
    "\n",
    "X_endocrine_latent = encoder.predict(X_endocrine_scaled)\n",
    "print(f\"Latent representation shape: {X_endocrine_latent.shape}\")"
   ]
  },
  {
   "cell_type": "code",
   "execution_count": null,
   "id": "4a3b2768",
   "metadata": {},
   "outputs": [
    {
     "name": "stderr",
     "output_type": "stream",
     "text": [
      "c:\\Users\\jakob\\AppData\\Local\\Programs\\Python\\Python311\\Lib\\site-packages\\umap\\umap_.py:1952: UserWarning: n_jobs value 1 overridden to 1 by setting random_state. Use no seed for parallelism.\n",
      "  warn(\n"
     ]
    },
    {
     "data": {
      "image/png": "[encoded data removed]",
      "text/plain": [
       "<Figure size 800x600 with 1 Axes>"
      ]
     },
     "metadata": {},
     "output_type": "display_data"
    }
   ],
   "source": [
    "import umap\n",
    "import matplotlib.pyplot as plt\n",
    "\n",
    "\n",
    "X_combined = np.vstack((X_latent, X_type1_latent, X_type2_latent, X_endocrine_latent))\n",
    "labels = np.array(['Control'] * X_latent.shape[0] + ['Type1'] * X_type1_latent.shape[0] + ['Type2'] * X_type2_latent.shape[0] + ['Endocrine'] * X_endocrine_latent.shape[0])\n",
    "\n",
    "reducer = umap.UMAP(random_state=42)\n",
    "X_umap = reducer.fit_transform(X_combined)\n",
    "\n",
    "# Plot\n",
    "plt.figure(figsize=(8,6))\n",
    "for label in np.unique(labels):\n",
    "    idx = labels == label\n",
    "    plt.scatter(X_umap[idx, 0], X_umap[idx, 1], s=5, label=label)\n",
    "plt.title('UMAP of Pancreatic A Cells (Control vs Type 1)')\n",
    "plt.legend()\n",
    "plt.show()\n",
    "\n"
   ]
  }
 ],
 "metadata": {
  "kernelspec": {
   "display_name": "Python 3",
   "language": "python",
   "name": "python3"
  },
  "language_info": {
   "codemirror_mode": {
    "name": "ipython",
    "version": 3
   },
   "file_extension": ".py",
   "mimetype": "text/x-python",
   "name": "python",
   "nbconvert_exporter": "python",
   "pygments_lexer": "ipython3",
   "version": "3.11.1"
  }
 },
 "nbformat": 4,
 "nbformat_minor": 5
}
