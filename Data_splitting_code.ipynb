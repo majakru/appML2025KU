{
 "cells": [
  {
   "cell_type": "code",
   "execution_count": 1,
   "id": "6180fbab",
   "metadata": {},
   "outputs": [],
   "source": [
    "import numpy as np\n",
    "import pandas as pd\n",
    "from sklearn.model_selection import train_test_split\n",
    "from sklearn.ensemble import RandomForestClassifier\n",
    "from sklearn.metrics import classification_report\n",
    "from scipy.sparse import issparse"
   ]
  },
  {
   "cell_type": "code",
   "execution_count": null,
   "id": "402778ef",
   "metadata": {},
   "outputs": [],
   "source": [
    "from anndata import read_h5ad\n",
    "\n",
    "#insert you full path and dataset name here\n",
    "adata = read_h5ad(\"mouse_diabetes.h5ad\", backed='r')"
   ]
  },
  {
   "cell_type": "markdown",
   "id": "5c8be13d",
   "metadata": {},
   "source": [
    "## For creating files by cell type"
   ]
  },
  {
   "cell_type": "code",
   "execution_count": null,
   "id": "837bb40d",
   "metadata": {},
   "outputs": [],
   "source": [
    "cell_types = adata.obs['cell_type'].unique().tolist()\n",
    "print(f\"Found cell types: {cell_types}\")"
   ]
  },
  {
   "cell_type": "code",
   "execution_count": null,
   "id": "03210a87",
   "metadata": {},
   "outputs": [],
   "source": [
    "#for cell_type in cell_types:\n",
    "    print(f\"Processing cell type: {cell_type}\")\n",
    "    \n",
    "    # Get indices of cells with this cell type\n",
    "    indices = adata.obs[adata.obs['cell_type'] == cell_type].index\n",
    "    \n",
    "    # Subset the data (load into memory)\n",
    "    adata_subset = adata[indices, :].to_memory()\n",
    "    \n",
    "    # Save as separate .h5ad\n",
    "    filename = f\"{cell_type}_subset.h5ad\"\n",
    "    adata_subset.write(filename)\n",
    "    print(f\"Saved {filename}\")"
   ]
  },
  {
   "cell_type": "markdown",
   "id": "ed52accd",
   "metadata": {},
   "source": [
    "## For creating files my disease AND cell type"
   ]
  },
  {
   "cell_type": "code",
   "execution_count": null,
   "id": "6b875572",
   "metadata": {},
   "outputs": [],
   "source": [
    "diseases = adata.obs['disease'].unique().tolist()\n",
    "print(f\"Diseases: {diseases}\")"
   ]
  },
  {
   "cell_type": "code",
   "execution_count": null,
   "id": "1428325f",
   "metadata": {},
   "outputs": [],
   "source": [
    "#for cell_type in cell_types:\n",
    "    for disease in diseases:\n",
    "        print(f\"Processing {cell_type} in {disease}\")\n",
    "        \n",
    "        # Get indices for this combination\n",
    "        mask = (adata.obs['cell_type'] == cell_type) & (adata.obs['disease'] == disease)\n",
    "        indices = adata.obs[mask].index\n",
    "        \n",
    "        if len(indices) == 0:\n",
    "            print(f\"⚠️ No cells found for {cell_type} in {disease}\")\n",
    "            continue\n",
    "        \n",
    "        # Subset data and load into memory\n",
    "        adata_subset = adata[indices, :].to_memory()\n",
    "        \n",
    "        # Save to a file\n",
    "        filename = f\"{cell_type}_{disease}_subset.h5ad\"\n",
    "        adata_subset.write(filename)\n",
    "        print(f\"✅ Saved {filename} with {adata_subset.n_obs} cells\")"
   ]
  }
 ],
 "metadata": {
  "kernelspec": {
   "display_name": "Python 3",
   "language": "python",
   "name": "python3"
  },
  "language_info": {
   "codemirror_mode": {
    "name": "ipython",
    "version": 3
   },
   "file_extension": ".py",
   "mimetype": "text/x-python",
   "name": "python",
   "nbconvert_exporter": "python",
   "pygments_lexer": "ipython3",
   "version": "3.11.1"
  }
 },
 "nbformat": 4,
 "nbformat_minor": 5
}
